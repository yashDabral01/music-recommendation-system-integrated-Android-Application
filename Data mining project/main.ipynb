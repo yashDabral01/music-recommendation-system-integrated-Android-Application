{
 "cells": [
  {
   "cell_type": "code",
   "execution_count": 1,
   "metadata": {},
   "outputs": [],
   "source": [
    "import pandas as pd\n",
    "import numpy as np"
   ]
  },
  {
   "cell_type": "code",
   "execution_count": 2,
   "metadata": {},
   "outputs": [
    {
     "data": {
      "text/html": [
       "<div>\n",
       "<style scoped>\n",
       "    .dataframe tbody tr th:only-of-type {\n",
       "        vertical-align: middle;\n",
       "    }\n",
       "\n",
       "    .dataframe tbody tr th {\n",
       "        vertical-align: top;\n",
       "    }\n",
       "\n",
       "    .dataframe thead th {\n",
       "        text-align: right;\n",
       "    }\n",
       "</style>\n",
       "<table border=\"1\" class=\"dataframe\">\n",
       "  <thead>\n",
       "    <tr style=\"text-align: right;\">\n",
       "      <th></th>\n",
       "      <th>track_id</th>\n",
       "      <th>song_name</th>\n",
       "      <th>artist_name</th>\n",
       "      <th>preview_url</th>\n",
       "      <th>spotify_id</th>\n",
       "      <th>release_year</th>\n",
       "      <th>duration_ms</th>\n",
       "      <th>lyrics</th>\n",
       "    </tr>\n",
       "  </thead>\n",
       "  <tbody>\n",
       "    <tr>\n",
       "      <th>0</th>\n",
       "      <td>TRIOREW128F424EAF0</td>\n",
       "      <td>Mr. Brightside</td>\n",
       "      <td>The Killers</td>\n",
       "      <td>https://p.scdn.co/mp3-preview/4d26180e6961fd46...</td>\n",
       "      <td>09ZQ5TmUG8TSL56n0knqrj</td>\n",
       "      <td>2004</td>\n",
       "      <td>222200</td>\n",
       "      <td>Coming out of my cage  \\r\\nAnd I've been doing...</td>\n",
       "    </tr>\n",
       "    <tr>\n",
       "      <th>1</th>\n",
       "      <td>TRRIVDJ128F429B0E8</td>\n",
       "      <td>Wonderwall</td>\n",
       "      <td>Oasis</td>\n",
       "      <td>https://p.scdn.co/mp3-preview/d012e536916c927b...</td>\n",
       "      <td>06UfBBDISthj1ZJAtX4xjj</td>\n",
       "      <td>2006</td>\n",
       "      <td>258613</td>\n",
       "      <td>Today is gonna be the day  \\r\\nThat they're go...</td>\n",
       "    </tr>\n",
       "    <tr>\n",
       "      <th>2</th>\n",
       "      <td>TRLNZBD128F935E4D8</td>\n",
       "      <td>Creep</td>\n",
       "      <td>Radiohead</td>\n",
       "      <td>https://p.scdn.co/mp3-preview/e7eb60e9466bc3a2...</td>\n",
       "      <td>01QoK9DA7VTeTSE3MNzp4I</td>\n",
       "      <td>2008</td>\n",
       "      <td>238640</td>\n",
       "      <td>When you were here before  \\r\\nCouldn't look y...</td>\n",
       "    </tr>\n",
       "    <tr>\n",
       "      <th>3</th>\n",
       "      <td>TRUMISQ128F9340BEE</td>\n",
       "      <td>Somebody Told Me</td>\n",
       "      <td>The Killers</td>\n",
       "      <td>https://p.scdn.co/mp3-preview/0d07673cfb46218a...</td>\n",
       "      <td>0FNmIQ7u45Lhdn6RHhSLix</td>\n",
       "      <td>2005</td>\n",
       "      <td>198480</td>\n",
       "      <td>Somebody told me  \\r\\nSomebody told me  \\r\\nSo...</td>\n",
       "    </tr>\n",
       "    <tr>\n",
       "      <th>4</th>\n",
       "      <td>TRXOGZT128F424AD74</td>\n",
       "      <td>Karma Police</td>\n",
       "      <td>Radiohead</td>\n",
       "      <td>https://p.scdn.co/mp3-preview/5a09f5390e2862af...</td>\n",
       "      <td>01puceOqImrzSfKDAcd1Ia</td>\n",
       "      <td>1996</td>\n",
       "      <td>264066</td>\n",
       "      <td>Karma police  \\r\\nArrest this man  \\r\\nHe talk...</td>\n",
       "    </tr>\n",
       "    <tr>\n",
       "      <th>...</th>\n",
       "      <td>...</td>\n",
       "      <td>...</td>\n",
       "      <td>...</td>\n",
       "      <td>...</td>\n",
       "      <td>...</td>\n",
       "      <td>...</td>\n",
       "      <td>...</td>\n",
       "      <td>...</td>\n",
       "    </tr>\n",
       "    <tr>\n",
       "      <th>11178</th>\n",
       "      <td>TRXHNGM128E07836CC</td>\n",
       "      <td>Open Eyes</td>\n",
       "      <td>For Today</td>\n",
       "      <td>https://p.scdn.co/mp3-preview/1a65b4f1079d4ce1...</td>\n",
       "      <td>31tIvF0LvrXDHAM3rJvpb4</td>\n",
       "      <td>2012</td>\n",
       "      <td>246480</td>\n",
       "      <td>May the memories not be forgot  \\r\\nMay we nev...</td>\n",
       "    </tr>\n",
       "    <tr>\n",
       "      <th>11179</th>\n",
       "      <td>TRNDEMF128F9314E78</td>\n",
       "      <td>3 Rings</td>\n",
       "      <td>Insane Clown Posse</td>\n",
       "      <td>https://p.scdn.co/mp3-preview/a95dbbb4daf6bbce...</td>\n",
       "      <td>0WOGcBAufza7MT78j7gO82</td>\n",
       "      <td>1995</td>\n",
       "      <td>290840</td>\n",
       "      <td>3 Rings  \\r\\n\"Is this on?\"  \\r\\n\"Gather round ...</td>\n",
       "    </tr>\n",
       "    <tr>\n",
       "      <th>11180</th>\n",
       "      <td>TRLODOZ128EF362FC0</td>\n",
       "      <td>Rise From The Ashes</td>\n",
       "      <td>War Of Ages</td>\n",
       "      <td>https://p.scdn.co/mp3-preview/c6553e9391a7d8f8...</td>\n",
       "      <td>2NTO7QiaHpS64jqXRffyL4</td>\n",
       "      <td>2006</td>\n",
       "      <td>239226</td>\n",
       "      <td>I felt this way before  \\r\\nI fell right throu...</td>\n",
       "    </tr>\n",
       "    <tr>\n",
       "      <th>11181</th>\n",
       "      <td>TROHNAJ128F145AFF7</td>\n",
       "      <td>Bring It On Down</td>\n",
       "      <td>Boom Boom Satellites</td>\n",
       "      <td>https://p.scdn.co/mp3-preview/48b90a3df64dece5...</td>\n",
       "      <td>2QVG1P4vZYHfSz3bUxYl0g</td>\n",
       "      <td>2007</td>\n",
       "      <td>180613</td>\n",
       "      <td>What was that sound ringing around your brain?...</td>\n",
       "    </tr>\n",
       "    <tr>\n",
       "      <th>11182</th>\n",
       "      <td>TRHQCSH128F42724B7</td>\n",
       "      <td>Colors Of The Wind</td>\n",
       "      <td>ACIDMAN</td>\n",
       "      <td>https://p.scdn.co/mp3-preview/8e22a7052ef3ecf7...</td>\n",
       "      <td>3wkdfXGf5JYErW4b35zP2h</td>\n",
       "      <td>2004</td>\n",
       "      <td>275133</td>\n",
       "      <td>You think you own whatever land you land on  \\...</td>\n",
       "    </tr>\n",
       "  </tbody>\n",
       "</table>\n",
       "<p>11183 rows × 8 columns</p>\n",
       "</div>"
      ],
      "text/plain": [
       "                 track_id            song_name           artist_name  \\\n",
       "0      TRIOREW128F424EAF0       Mr. Brightside           The Killers   \n",
       "1      TRRIVDJ128F429B0E8           Wonderwall                 Oasis   \n",
       "2      TRLNZBD128F935E4D8                Creep             Radiohead   \n",
       "3      TRUMISQ128F9340BEE     Somebody Told Me           The Killers   \n",
       "4      TRXOGZT128F424AD74         Karma Police             Radiohead   \n",
       "...                   ...                  ...                   ...   \n",
       "11178  TRXHNGM128E07836CC            Open Eyes             For Today   \n",
       "11179  TRNDEMF128F9314E78              3 Rings    Insane Clown Posse   \n",
       "11180  TRLODOZ128EF362FC0  Rise From The Ashes           War Of Ages   \n",
       "11181  TROHNAJ128F145AFF7     Bring It On Down  Boom Boom Satellites   \n",
       "11182  TRHQCSH128F42724B7   Colors Of The Wind               ACIDMAN   \n",
       "\n",
       "                                             preview_url  \\\n",
       "0      https://p.scdn.co/mp3-preview/4d26180e6961fd46...   \n",
       "1      https://p.scdn.co/mp3-preview/d012e536916c927b...   \n",
       "2      https://p.scdn.co/mp3-preview/e7eb60e9466bc3a2...   \n",
       "3      https://p.scdn.co/mp3-preview/0d07673cfb46218a...   \n",
       "4      https://p.scdn.co/mp3-preview/5a09f5390e2862af...   \n",
       "...                                                  ...   \n",
       "11178  https://p.scdn.co/mp3-preview/1a65b4f1079d4ce1...   \n",
       "11179  https://p.scdn.co/mp3-preview/a95dbbb4daf6bbce...   \n",
       "11180  https://p.scdn.co/mp3-preview/c6553e9391a7d8f8...   \n",
       "11181  https://p.scdn.co/mp3-preview/48b90a3df64dece5...   \n",
       "11182  https://p.scdn.co/mp3-preview/8e22a7052ef3ecf7...   \n",
       "\n",
       "                   spotify_id  release_year  duration_ms  \\\n",
       "0      09ZQ5TmUG8TSL56n0knqrj          2004       222200   \n",
       "1      06UfBBDISthj1ZJAtX4xjj          2006       258613   \n",
       "2      01QoK9DA7VTeTSE3MNzp4I          2008       238640   \n",
       "3      0FNmIQ7u45Lhdn6RHhSLix          2005       198480   \n",
       "4      01puceOqImrzSfKDAcd1Ia          1996       264066   \n",
       "...                       ...           ...          ...   \n",
       "11178  31tIvF0LvrXDHAM3rJvpb4          2012       246480   \n",
       "11179  0WOGcBAufza7MT78j7gO82          1995       290840   \n",
       "11180  2NTO7QiaHpS64jqXRffyL4          2006       239226   \n",
       "11181  2QVG1P4vZYHfSz3bUxYl0g          2007       180613   \n",
       "11182  3wkdfXGf5JYErW4b35zP2h          2004       275133   \n",
       "\n",
       "                                                  lyrics  \n",
       "0      Coming out of my cage  \\r\\nAnd I've been doing...  \n",
       "1      Today is gonna be the day  \\r\\nThat they're go...  \n",
       "2      When you were here before  \\r\\nCouldn't look y...  \n",
       "3      Somebody told me  \\r\\nSomebody told me  \\r\\nSo...  \n",
       "4      Karma police  \\r\\nArrest this man  \\r\\nHe talk...  \n",
       "...                                                  ...  \n",
       "11178  May the memories not be forgot  \\r\\nMay we nev...  \n",
       "11179  3 Rings  \\r\\n\"Is this on?\"  \\r\\n\"Gather round ...  \n",
       "11180  I felt this way before  \\r\\nI fell right throu...  \n",
       "11181  What was that sound ringing around your brain?...  \n",
       "11182  You think you own whatever land you land on  \\...  \n",
       "\n",
       "[11183 rows x 8 columns]"
      ]
     },
     "execution_count": 2,
     "metadata": {},
     "output_type": "execute_result"
    }
   ],
   "source": [
    "df = pd.read_csv(\"cleaned_data.csv\")\n",
    "df"
   ]
  },
  {
   "cell_type": "code",
   "execution_count": 3,
   "metadata": {},
   "outputs": [
    {
     "data": {
      "text/plain": [
       "track_id        0\n",
       "song_name       0\n",
       "artist_name     0\n",
       "preview_url     0\n",
       "spotify_id      0\n",
       "release_year    0\n",
       "duration_ms     0\n",
       "lyrics          0\n",
       "dtype: int64"
      ]
     },
     "execution_count": 3,
     "metadata": {},
     "output_type": "execute_result"
    }
   ],
   "source": [
    "df.isnull().sum()"
   ]
  },
  {
   "cell_type": "code",
   "execution_count": 4,
   "metadata": {},
   "outputs": [
    {
     "data": {
      "text/plain": [
       "\"Coming out of my cage  \\r\\nAnd I've been doing just fine  \\r\\nGotta gotta be down  \\r\\nBecause I want it all  \\r\\nIt started out with a kiss  \\r\\nHow did it end up like this  \\r\\nIt was only a kiss, it was only a kiss  \\r\\nNow I'm falling asleep  \\r\\nAnd she's calling a cab  \\r\\nWhile he's having a smoke  \\r\\nAnd she's taking a drag  \\r\\nNow they're going to bed  \\r\\nAnd my stomach is sick  \\r\\nAnd it's all in my head  \\r\\nBut she's touching his chest  \\r\\nNow, he takes off her dress  \\r\\nNow, letting me go  \\r\\n  \\r\\nI just can't look its killing me  \\r\\nAnd taking control  \\r\\nJealousy, turning saints into the sea  \\r\\nSwimming through sick lullabies  \\r\\nChoking on your alibis  \\r\\nBut it's just the price I pay  \\r\\nDestiny is calling me  \\r\\nOpen up my eager eyes  \\r\\nCause I'm Mr Brightside  \\r\\n  \\r\\nI'm coming out of my cage  \\r\\nAnd I've been doing just fine  \\r\\nGotta gotta be down  \\r\\nBecause I want it all  \\r\\nIt started out with a kiss  \\r\\nHow did it end up like this  \\r\\nIt was only a kiss, it was only a kiss  \\r\\nNow I'm falling asleep  \\r\\nAnd she's calling a cab  \\r\\nWhile he's having a smoke  \\r\\nAnd she's taking a drag  \\r\\nNow they're going to bed  \\r\\nAnd my stomach is sick  \\r\\nAnd it's all in my head  \\r\\nBut she's touching his chest  \\r\\nNow, he takes off her dress  \\r\\nNow, letting me go  \\r\\n  \\r\\n'Cause I just can't look its killing me  \\r\\nAnd taking control  \\r\\nJealousy, turning saints into the sea  \\r\\nSwimming through sick lullabies  \\r\\nChoking on your alibi  \\r\\nBut it's just the price I pay  \\r\\nDestiny is calling me  \\r\\nOpen up my eager eyes  \\r\\n'Cause I'm Mr Brightside  \\r\\nI never  \\r\\nI never  \\r\\nI never  \\r\\nI never\\r\\n\\r\\n\""
      ]
     },
     "execution_count": 4,
     "metadata": {},
     "output_type": "execute_result"
    }
   ],
   "source": [
    "df['lyrics'][0]"
   ]
  },
  {
   "cell_type": "code",
   "execution_count": 5,
   "metadata": {},
   "outputs": [],
   "source": [
    "def clean_text(X):\n",
    "    cleaned = X[\"lyrics\"].str.lower().replace(r'^\\w\\s',' ').replace(r'\\n',' ',regex=True).replace(r'\\r',' ',regex=True)\n",
    "    X[\"lyrics\"] = cleaned\n",
    "    return X"
   ]
  },
  {
   "cell_type": "code",
   "execution_count": 6,
   "metadata": {},
   "outputs": [
    {
     "data": {
      "text/plain": [
       "\"coming out of my cage    and i've been doing just fine    gotta gotta be down    because i want it all    it started out with a kiss    how did it end up like this    it was only a kiss, it was only a kiss    now i'm falling asleep    and she's calling a cab    while he's having a smoke    and she's taking a drag    now they're going to bed    and my stomach is sick    and it's all in my head    but she's touching his chest    now, he takes off her dress    now, letting me go        i just can't look its killing me    and taking control    jealousy, turning saints into the sea    swimming through sick lullabies    choking on your alibis    but it's just the price i pay    destiny is calling me    open up my eager eyes    cause i'm mr brightside        i'm coming out of my cage    and i've been doing just fine    gotta gotta be down    because i want it all    it started out with a kiss    how did it end up like this    it was only a kiss, it was only a kiss    now i'm falling asleep    and she's calling a cab    while he's having a smoke    and she's taking a drag    now they're going to bed    and my stomach is sick    and it's all in my head    but she's touching his chest    now, he takes off her dress    now, letting me go        'cause i just can't look its killing me    and taking control    jealousy, turning saints into the sea    swimming through sick lullabies    choking on your alibi    but it's just the price i pay    destiny is calling me    open up my eager eyes    'cause i'm mr brightside    i never    i never    i never    i never    \""
      ]
     },
     "execution_count": 6,
     "metadata": {},
     "output_type": "execute_result"
    }
   ],
   "source": [
    "df = clean_text(df)\n",
    "df['lyrics'][0]"
   ]
  },
  {
   "cell_type": "code",
   "execution_count": 7,
   "metadata": {},
   "outputs": [
    {
     "name": "stdout",
     "output_type": "stream",
     "text": [
      "Requirement already satisfied: nltk in c:\\python312\\lib\\site-packages (3.9.1)\n",
      "Requirement already satisfied: click in c:\\python312\\lib\\site-packages (from nltk) (8.1.7)\n",
      "Requirement already satisfied: joblib in c:\\python312\\lib\\site-packages (from nltk) (1.3.2)\n",
      "Requirement already satisfied: regex>=2021.8.3 in c:\\python312\\lib\\site-packages (from nltk) (2024.9.11)\n",
      "Requirement already satisfied: tqdm in c:\\python312\\lib\\site-packages (from nltk) (4.66.5)\n",
      "Requirement already satisfied: colorama in c:\\users\\yash dabral\\appdata\\roaming\\python\\python312\\site-packages (from click->nltk) (0.4.6)\n",
      "Note: you may need to restart the kernel to use updated packages.\n"
     ]
    },
    {
     "name": "stderr",
     "output_type": "stream",
     "text": [
      "\n",
      "[notice] A new release of pip is available: 23.2.1 -> 24.3.1\n",
      "[notice] To update, run: python.exe -m pip install --upgrade pip\n"
     ]
    }
   ],
   "source": [
    "%pip install nltk"
   ]
  },
  {
   "cell_type": "code",
   "execution_count": 8,
   "metadata": {},
   "outputs": [
    {
     "name": "stderr",
     "output_type": "stream",
     "text": [
      "[nltk_data] Downloading package punkt to C:\\Users\\Yash\n",
      "[nltk_data]     Dabral\\AppData\\Roaming\\nltk_data...\n",
      "[nltk_data]   Package punkt is already up-to-date!\n"
     ]
    },
    {
     "data": {
      "text/plain": [
       "True"
      ]
     },
     "execution_count": 8,
     "metadata": {},
     "output_type": "execute_result"
    }
   ],
   "source": [
    "import nltk\n",
    "from nltk.stem.porter import PorterStemmer\n",
    "nltk.download('punkt')"
   ]
  },
  {
   "cell_type": "code",
   "execution_count": 9,
   "metadata": {},
   "outputs": [
    {
     "name": "stderr",
     "output_type": "stream",
     "text": [
      "[nltk_data] Downloading package punkt_tab to C:\\Users\\Yash\n",
      "[nltk_data]     Dabral\\AppData\\Roaming\\nltk_data...\n",
      "[nltk_data]   Package punkt_tab is already up-to-date!\n"
     ]
    },
    {
     "data": {
      "text/plain": [
       "True"
      ]
     },
     "execution_count": 9,
     "metadata": {},
     "output_type": "execute_result"
    }
   ],
   "source": [
    "stemmer = PorterStemmer()\n",
    "nltk.download('punkt_tab')"
   ]
  },
  {
   "cell_type": "code",
   "execution_count": 10,
   "metadata": {},
   "outputs": [],
   "source": [
    "def tokenization(text):\n",
    "    token = nltk.word_tokenize(text,language=\"english\")\n",
    "    temp = [stemmer.stem(w) for w in token]\n",
    "    return \" \".join(temp)"
   ]
  },
  {
   "cell_type": "code",
   "execution_count": null,
   "metadata": {},
   "outputs": [
    {
     "name": "stdout",
     "output_type": "stream",
     "text": [
      "you are veri hardwork hardwork hardwork\n"
     ]
    }
   ],
   "source": [
    "#example\n",
    "s = tokenization(\"you are very hardworking hardworker hardwork\")\n",
    "print(s)"
   ]
  },
  {
   "cell_type": "code",
   "execution_count": 12,
   "metadata": {},
   "outputs": [
    {
     "data": {
      "text/plain": [
       "0        come out of my cage and i 've been do just fin...\n",
       "1        today is gon na be the day that they 're gon n...\n",
       "2        when you were here befor could n't look you in...\n",
       "3        somebodi told me somebodi told me somebodi tol...\n",
       "4        karma polic arrest thi man he talk in math he ...\n",
       "                               ...                        \n",
       "11178    may the memori not be forgot may we never lose...\n",
       "11179    3 ring `` is thi on ? '' `` gather round my we...\n",
       "11180    i felt thi way befor i fell right through the ...\n",
       "11181    what wa that sound ring around your brain ? to...\n",
       "11182    you think you own whatev land you land on the ...\n",
       "Name: lyrics, Length: 11183, dtype: object"
      ]
     },
     "execution_count": 12,
     "metadata": {},
     "output_type": "execute_result"
    }
   ],
   "source": [
    "df[\"lyrics\"].apply(lambda x:tokenization(x))"
   ]
  },
  {
   "cell_type": "code",
   "execution_count": 13,
   "metadata": {},
   "outputs": [],
   "source": [
    "from sklearn.feature_extraction.text import TfidfVectorizer\n",
    "from sklearn.metrics.pairwise import cosine_similarity"
   ]
  },
  {
   "cell_type": "code",
   "execution_count": 14,
   "metadata": {},
   "outputs": [],
   "source": [
    "tfid = TfidfVectorizer(analyzer=\"word\",stop_words='english')"
   ]
  },
  {
   "cell_type": "code",
   "execution_count": 15,
   "metadata": {},
   "outputs": [],
   "source": [
    "matrix = tfid.fit_transform(df[\"lyrics\"])\n"
   ]
  },
  {
   "cell_type": "code",
   "execution_count": 16,
   "metadata": {},
   "outputs": [],
   "source": [
    "similar = cosine_similarity(matrix)"
   ]
  },
  {
   "cell_type": "code",
   "execution_count": 18,
   "metadata": {},
   "outputs": [],
   "source": [
    "# Save the DataFrame to a CSV file\n",
    "df.to_csv('songs_data.csv', index=False)\n",
    "import numpy as np\n",
    "\n",
    "# Save the similarity matrix to a .npy file\n",
    "np.save('similarity_matrix.npy', similar)\n"
   ]
  },
  {
   "cell_type": "code",
   "execution_count": 19,
   "metadata": {},
   "outputs": [],
   "source": [
    "def recommender(song_name):\n",
    "    idx = df[df[\"song_name\"] == song_name].index[0]\n",
    "    distance = sorted(list(enumerate(similar[idx])),reverse=True,key=lambda x:x[1])\n",
    "    song = []\n",
    "    for s_id in distance [1:5]:\n",
    "        song.append(df.iloc[s_id[0]].song_name)\n",
    "    return song"
   ]
  },
  {
   "cell_type": "code",
   "execution_count": 20,
   "metadata": {},
   "outputs": [
    {
     "data": {
      "text/plain": [
       "['Love Somebody', 'Be Somebody', \"Somebody's Me\", 'Somebody Someone']"
      ]
     },
     "execution_count": 20,
     "metadata": {},
     "output_type": "execute_result"
    }
   ],
   "source": [
    "recommender(\"Somebody Told Me\")"
   ]
  }
 ],
 "metadata": {
  "kernelspec": {
   "display_name": "Python 3",
   "language": "python",
   "name": "python3"
  },
  "language_info": {
   "codemirror_mode": {
    "name": "ipython",
    "version": 3
   },
   "file_extension": ".py",
   "mimetype": "text/x-python",
   "name": "python",
   "nbconvert_exporter": "python",
   "pygments_lexer": "ipython3",
   "version": "3.12.0"
  }
 },
 "nbformat": 4,
 "nbformat_minor": 2
}
